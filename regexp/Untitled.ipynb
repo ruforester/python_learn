{
 "cells": [
  {
   "cell_type": "code",
   "execution_count": 2,
   "id": "ab99442a-2175-4583-b08f-c752667ea0be",
   "metadata": {},
   "outputs": [],
   "source": [
    "with open(\"001 miracle-in-the-andes.txt\") as file:\n",
    "    book = file.read()"
   ]
  },
  {
   "cell_type": "code",
   "execution_count": 3,
   "id": "33c3e1b4-8cb2-4ae7-916b-10fc988b3b06",
   "metadata": {},
   "outputs": [
    {
     "data": {
      "text/plain": [
       "11"
      ]
     },
     "execution_count": 3,
     "metadata": {},
     "output_type": "execute_result"
    }
   ],
   "source": [
    "book.count(\"Chapter\")"
   ]
  },
  {
   "cell_type": "code",
   "execution_count": 4,
   "id": "10aa8e9f-492c-4dcc-b10c-1d5acfa99749",
   "metadata": {},
   "outputs": [
    {
     "data": {
      "text/plain": [
       "10"
      ]
     },
     "execution_count": 4,
     "metadata": {},
     "output_type": "execute_result"
    }
   ],
   "source": [
    "import re\n",
    "pattern = re.compile(\"Chapter [0-9]+\")\n",
    "found = re.findall(pattern, book)\n",
    "len(found)"
   ]
  },
  {
   "cell_type": "markdown",
   "id": "1479d463-779c-4af7-97e1-5249e421f279",
   "metadata": {},
   "source": [
    "# Find sentences with word love"
   ]
  },
  {
   "cell_type": "code",
   "execution_count": 5,
   "id": "ea2cd94c-b507-4616-8667-504cf64fc78b",
   "metadata": {},
   "outputs": [
    {
     "data": {
      "text/plain": [
       "['As a young man, of course, I could not put these things into words, but I knew, and my teammates knew, that there was something special about the game, and under the guidance of the Christian Brothers we developed a passionate love for the sport that shaped our friendships and our lives.',\n",
       " 'Guido and I grew up together, playing soccer and sharing a love of motorcycles, cars, and auto racing.',\n",
       " 'Under the guidance of the Christian Brothers, both of us grew to love the game of rugby with a consuming passion.']"
      ]
     },
     "execution_count": 5,
     "metadata": {},
     "output_type": "execute_result"
    }
   ],
   "source": [
    "pattern = re.compile(\"[A-Z]{1}[^.]*[^a-zA-Z]+love[^a-zA-Z]+[^.]*.\")\n",
    "found = re.findall(pattern, book)\n",
    "found[:3]"
   ]
  },
  {
   "cell_type": "code",
   "execution_count": 6,
   "id": "e17eaad2-1766-4468-a905-e349bf3d5601",
   "metadata": {},
   "outputs": [
    {
     "data": {
      "text/plain": [
       "['chapter',\n",
       " 'before',\n",
       " 'it',\n",
       " 'was',\n",
       " 'friday',\n",
       " 'the',\n",
       " 'thirteenth',\n",
       " 'of',\n",
       " 'october',\n",
       " 'we']"
      ]
     },
     "execution_count": 6,
     "metadata": {},
     "output_type": "execute_result"
    }
   ],
   "source": [
    "pattern = re.compile(\"[a-z]+\")\n",
    "words = re.findall(pattern, book.lower())\n",
    "words[:10]"
   ]
  },
  {
   "cell_type": "code",
   "execution_count": 7,
   "id": "ac96a958-e9ee-454b-a0e7-8af01c1643cc",
   "metadata": {},
   "outputs": [
    {
     "data": {
      "text/plain": [
       "[(5346, 'the'),\n",
       " (2795, 'and'),\n",
       " (2729, 'i'),\n",
       " (2400, 'to'),\n",
       " (2060, 'of'),\n",
       " (1566, 'a'),\n",
       " (1430, 'was'),\n",
       " (1419, 'in'),\n",
       " (1226, 'we'),\n",
       " (1169, 'my')]"
      ]
     },
     "execution_count": 7,
     "metadata": {},
     "output_type": "execute_result"
    }
   ],
   "source": [
    "d = {}\n",
    "\n",
    "for word in words:\n",
    "    if word in d.keys():\n",
    "        d[word] = d[word] + 1\n",
    "    else:\n",
    "        d[word] = 1\n",
    "\n",
    "dlist = [(value,key) for (key, value) in d.items()]\n",
    "dlist = sorted(dlist, reverse=True)\n",
    "dlist[:10]"
   ]
  },
  {
   "cell_type": "markdown",
   "id": "4c1a4283-980d-4752-aec7-c5485ba0f2ba",
   "metadata": {},
   "source": [
    "### Natural Language Processing"
   ]
  },
  {
   "cell_type": "code",
   "execution_count": 9,
   "id": "70053730-cccf-4106-a0c4-46fedc4263a3",
   "metadata": {},
   "outputs": [
    {
     "data": {
      "text/plain": [
       "[('would', 575),\n",
       " ('us', 519),\n",
       " ('said', 292),\n",
       " ('roberto', 284),\n",
       " ('could', 252),\n",
       " ('one', 249),\n",
       " ('snow', 227),\n",
       " ('mountain', 183),\n",
       " ('time', 182),\n",
       " ('like', 165),\n",
       " ('way', 164),\n",
       " ('life', 161),\n",
       " ('knew', 155),\n",
       " ('mountains', 147),\n",
       " ('fuselage', 140),\n",
       " ('still', 137),\n",
       " ('felt', 127),\n",
       " ('father', 127),\n",
       " ('others', 126),\n",
       " ('found', 126)]"
      ]
     },
     "execution_count": 9,
     "metadata": {},
     "output_type": "execute_result"
    }
   ],
   "source": [
    "import nltk\n",
    "# nltk.download('stopwords')\n",
    "from nltk.corpus import stopwords\n",
    "\n",
    "stop_words = stopwords.words(\"english\")\n",
    "\n",
    "filtered = []\n",
    "for count, word in dlist:\n",
    "    if word not in stop_words:\n",
    "        filtered.append((word, count))\n",
    "\n",
    "filtered[:20]\n"
   ]
  }
 ],
 "metadata": {
  "kernelspec": {
   "display_name": "Python 3 (ipykernel)",
   "language": "python",
   "name": "python3"
  },
  "language_info": {
   "codemirror_mode": {
    "name": "ipython",
    "version": 3
   },
   "file_extension": ".py",
   "mimetype": "text/x-python",
   "name": "python",
   "nbconvert_exporter": "python",
   "pygments_lexer": "ipython3",
   "version": "3.10.12"
  }
 },
 "nbformat": 4,
 "nbformat_minor": 5
}
